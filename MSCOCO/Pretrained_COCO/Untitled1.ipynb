{
 "cells": [
  {
   "cell_type": "code",
   "execution_count": 525,
   "metadata": {},
   "outputs": [],
   "source": [
    "##library\n",
    "import numpy as np\n",
    "k = 12\n",
    "L = 3\n",
    "d = 4\n",
    "N_g = 30\n",
    "Bases=np.eye(12)\n",
    "X0 = np.random.choice(a=12, size=4,replace=True )\n",
    "X1 = np.random.choice(a=12, size=4,replace=True )\n",
    "X2 = np.random.choice(a=12, size=4,replace=True )\n",
    "\n",
    "B0=Bases[:,X0[:4]]\n",
    "B1=Bases[:,X1[:4]]\n",
    "B2=Bases[:,X2[:4]]\n",
    "\n",
    "\n",
    "a0 = np.random.randn(4,30)/np.sqrt(12)\n",
    "a1 = np.random.randn(4,30)/np.sqrt(12)\n",
    "a2 = np.random.randn(4,30)/np.sqrt(12)\n",
    "B0 = np.matmul(B0,a0)\n",
    "B1 = np.matmul(B1,a1)\n",
    "B2 = np.matmul(B2,a2)\n",
    "\n",
    "F_cT=np.concatenate([B0,B1],axis=1)\n",
    "F_cT=np.concatenate([F_cT,B2],axis=1)\n",
    "F_c=np.transpose(F_cT)\n",
    "\n",
    "kr_ = k\n",
    "kc_ = k\n",
    "n = 100\n",
    "F_r = np.random.randn(n, k)\n",
    "E = np.random.randn(n, L*N_g)\n",
    "Q = np.random.randn(kr_, kc_)\n",
    "Y_star=100*np.matmul(np.matmul(F_r,Q),F_cT)+E"
   ]
  },
  {
   "cell_type": "code",
   "execution_count": 526,
   "metadata": {},
   "outputs": [],
   "source": [
    "lambda_= 10\n",
    "rho_ = 2*1e2\n",
    "mu_1 = 1e5\n",
    "mu_2 = 1e5\n",
    "beta_ = 1e2\n",
    "tau_1 = 1e-5\n",
    "tau_2 = 1e-2\n"
   ]
  },
  {
   "cell_type": "code",
   "execution_count": 527,
   "metadata": {},
   "outputs": [],
   "source": [
    "kd_ = Y_star.shape[1] # of data\n",
    "ob_mask = (np.random.uniform(low=0.0, high=1.0, size=(Y_star.shape[0], Y_star.shape[1]))>0.9).astype(int)\n",
    "\n",
    "# ob_mask = np.round(np.random.rand(Y_star.shape[0], Y_star.shape[1]))\n",
    "nob_mask = (ob_mask==0).astype(int)\n",
    "km_ = np.sum((ob_mask==0).astype(int))"
   ]
  },
  {
   "cell_type": "code",
   "execution_count": 528,
   "metadata": {},
   "outputs": [],
   "source": [
    "Y_bar=Y_star*ob_mask"
   ]
  },
  {
   "cell_type": "code",
   "execution_count": 529,
   "metadata": {},
   "outputs": [],
   "source": [
    "c_int=np.zeros(Y_bar.shape[1])\n",
    "c_int2=np.zeros(Y_bar.shape[1])\n",
    "\n",
    "Eye_dict=np.eye(Y_bar.shape[0])\n",
    "for ii in range(Y_bar.shape[1]):\n",
    "    if ii==0:\n",
    "        D_0 = np.reshape(Y_bar[:,ii],[Y_bar.shape[0],1])\n",
    "        c_int[ii]=0\n",
    "    else:\n",
    "        D_0 = np.concatenate([D_0,np.reshape(Y_bar[:,ii],[Y_bar.shape[0],1])],axis=1)\n",
    "        c_int[ii] = D_0.shape[1]-1\n",
    "    D_0 = np.concatenate([D_0,np.transpose(Eye_dict[np.where(Y_bar[:,ii]==0)])],axis=1)\n",
    "    c_int2[ii]=np.sum((Y_bar[:,ii]==0).astype(int))"
   ]
  },
  {
   "cell_type": "code",
   "execution_count": 530,
   "metadata": {},
   "outputs": [
    {
     "data": {
      "text/plain": [
       "array([83., 90., 89., 92., 83., 84., 90., 90., 92., 91., 94., 97., 93.,\n",
       "       92., 91., 95., 87., 90., 85., 89., 91., 86., 87., 93., 84., 90.,\n",
       "       98., 95., 86., 95., 90., 91., 93., 87., 91., 91., 91., 94., 90.,\n",
       "       93., 87., 87., 89., 93., 87., 91., 91., 86., 91., 89., 92., 93.,\n",
       "       90., 92., 87., 95., 88., 90., 93., 96., 91., 90., 91., 86., 90.,\n",
       "       87., 88., 94., 90., 91., 94., 90., 90., 92., 89., 89., 92., 91.,\n",
       "       93., 89., 90., 88., 89., 91., 84., 87., 89., 92., 90., 92.])"
      ]
     },
     "execution_count": 530,
     "metadata": {},
     "output_type": "execute_result"
    }
   ],
   "source": [
    "c_int2"
   ]
  },
  {
   "cell_type": "code",
   "execution_count": 531,
   "metadata": {},
   "outputs": [
    {
     "data": {
      "text/plain": [
       "array([   0.,   84.,  175.,  265.,  358.,  442.,  527.,  618.,  709.,\n",
       "        802.,  894.,  989., 1087., 1181., 1274., 1366., 1462., 1550.,\n",
       "       1641., 1727., 1817., 1909., 1996., 2084., 2178., 2263., 2354.,\n",
       "       2453., 2549., 2636., 2732., 2823., 2915., 3009., 3097., 3189.,\n",
       "       3281., 3373., 3468., 3559., 3653., 3741., 3829., 3919., 4013.,\n",
       "       4101., 4193., 4285., 4372., 4464., 4554., 4647., 4741., 4832.,\n",
       "       4925., 5013., 5109., 5198., 5289., 5383., 5480., 5572., 5663.,\n",
       "       5755., 5842., 5933., 6021., 6110., 6205., 6296., 6388., 6483.,\n",
       "       6574., 6665., 6758., 6848., 6938., 7031., 7123., 7217., 7307.,\n",
       "       7398., 7487., 7577., 7669., 7754., 7842., 7932., 8025., 8116.])"
      ]
     },
     "execution_count": 531,
     "metadata": {},
     "output_type": "execute_result"
    }
   ],
   "source": [
    "c_int"
   ]
  },
  {
   "cell_type": "code",
   "execution_count": 532,
   "metadata": {},
   "outputs": [
    {
     "data": {
      "text/plain": [
       "90"
      ]
     },
     "execution_count": 532,
     "metadata": {},
     "output_type": "execute_result"
    }
   ],
   "source": [
    "kd_"
   ]
  },
  {
   "cell_type": "code",
   "execution_count": 533,
   "metadata": {},
   "outputs": [],
   "source": [
    "C_0=np.random.randn(kd_, kd_)/np.sqrt(kd_*kd_)\n",
    "for ii in range(kd_):\n",
    "    C_0[ii,ii]=0\n",
    "    x_i=np.random.randn(int(c_int2[ii]))\n",
    "    x_i = np.reshape(np.append([1],x_i),[-1,1])\n",
    "    if ii==0:\n",
    "        A_0= np.matmul(x_i,np.reshape(C_0[ii],[1,-1]))\n",
    "    else:\n",
    "        A_0=np.concatenate([A_0,np.matmul(x_i,np.reshape(C_0[ii],[1,-1]))],axis=0)\n",
    "\n",
    "\n",
    "Q_0= np.zeros((kr_,kc_))\n",
    "Y_0= np.zeros((Y_star.shape[0],kd_))\n",
    "Y_0 = Y_bar\n",
    "\n",
    "# A_0= np.zeros((kd_+km_,kd_))\n",
    "Z_0= np.zeros((kd_+km_,kd_))\n",
    "V_0= np.zeros((kd_+km_,kd_))\n",
    "\n",
    "G1_0= np.zeros((Y_star.shape[0],kd_))\n",
    "G2_0= np.zeros((kd_+km_,kd_))\n",
    "G3_0= np.zeros((kd_+km_,kd_))\n",
    "\n",
    "\n",
    "\n",
    "# Q_0= np.random.randn(kr_, kc_)\n",
    "# Y_0= np.random.randn(Y_star.shape[0], kd_)\n",
    "# # Y_0 = Y_bar\n",
    "\n",
    "# A_0= np.random.randn(kd_+km_, kd_)\n",
    "# Z_0= np.random.randn(kd_+km_, kd_)\n",
    "# V_0= np.random.randn(kd_+km_, kd_)\n",
    "\n",
    "# G1_0= np.random.randn(Y_star.shape[0], kd_)\n",
    "# G2_0= np.random.randn(kd_+km_, kd_)\n",
    "# G3_0= np.random.randn(kd_+km_, kd_)\n"
   ]
  },
  {
   "cell_type": "code",
   "execution_count": 534,
   "metadata": {},
   "outputs": [],
   "source": [
    "def svt(M,tau):\n",
    "#     M = np.random.randn(30,20)\n",
    "    zeros_1=np.zeros((M.shape[1],M.shape[1]))\n",
    "    zeros_2=np.zeros((M.shape[0],M.shape[0]))\n",
    "    mat_1=np.concatenate((zeros_1,np.transpose(M)),axis=1)\n",
    "    mat_2=np.concatenate((M,zeros_2),axis=1)\n",
    "    mat = np.concatenate((mat_1,mat_2),axis=0)\n",
    "    iters=np.min([mat.shape[0],mat.shape[1]])\n",
    "    kk=5\n",
    "    while iters > 0:\n",
    "        S, V = np.linalg.eig(mat)\n",
    "        S_desc = np.sort(S)[::-1]\n",
    "        sort_indices_desc = np.argsort(S)[::-1]    \n",
    "        S_desc = S_desc[:kk]\n",
    "        V_desc = V[sort_indices_desc]\n",
    "        V_desc = V_desc[:kk]    \n",
    "        mask_svt = np.where(S_desc>=tau)\n",
    "        e = S_desc[mask_svt]\n",
    "        w = V_desc[mask_svt]\n",
    "\n",
    "        iters = iters - kk\n",
    "        kk = np.min([kk+1,iters])\n",
    "    S = e\n",
    "    w = np.sqrt(2)*w\n",
    "\n",
    "    U = np.abs(w[:,M.shape[1]:])\n",
    "    V = np.abs(w[:,:M.shape[1]])\n",
    "    return U, V"
   ]
  },
  {
   "cell_type": "code",
   "execution_count": 535,
   "metadata": {},
   "outputs": [
    {
     "name": "stdout",
     "output_type": "stream",
     "text": [
      "102683.45458970236 0.9633360124886983\n",
      "70685.85986997931 0.9537447419191125\n",
      "54788.95868380892 0.9578651204273724\n"
     ]
    },
    {
     "ename": "KeyboardInterrupt",
     "evalue": "",
     "traceback": [
      "\u001b[0;31m---------------------------------------------------------------------------\u001b[0m",
      "\u001b[0;31mKeyboardInterrupt\u001b[0m                         Traceback (most recent call last)",
      "\u001b[0;32m<ipython-input-535-fe66c0d8fadb>\u001b[0m in \u001b[0;36m<module>\u001b[0;34m\u001b[0m\n\u001b[1;32m     31\u001b[0m             \u001b[0mU\u001b[0m\u001b[0;34m,\u001b[0m \u001b[0ms\u001b[0m\u001b[0;34m,\u001b[0m \u001b[0mV\u001b[0m \u001b[0;34m=\u001b[0m \u001b[0mnp\u001b[0m\u001b[0;34m.\u001b[0m\u001b[0mlinalg\u001b[0m\u001b[0;34m.\u001b[0m\u001b[0msvd\u001b[0m\u001b[0;34m(\u001b[0m\u001b[0mA_0\u001b[0m\u001b[0;34m[\u001b[0m\u001b[0mc_int\u001b[0m\u001b[0;34m[\u001b[0m\u001b[0mjj\u001b[0m\u001b[0;34m]\u001b[0m\u001b[0;34m.\u001b[0m\u001b[0mastype\u001b[0m\u001b[0;34m(\u001b[0m\u001b[0mint\u001b[0m\u001b[0;34m)\u001b[0m\u001b[0;34m:\u001b[0m\u001b[0;34m,\u001b[0m\u001b[0;34m:\u001b[0m\u001b[0;34m]\u001b[0m\u001b[0;34m-\u001b[0m\u001b[0;34m(\u001b[0m\u001b[0mG3_0\u001b[0m\u001b[0;34m[\u001b[0m\u001b[0mc_int\u001b[0m\u001b[0;34m[\u001b[0m\u001b[0mjj\u001b[0m\u001b[0;34m]\u001b[0m\u001b[0;34m.\u001b[0m\u001b[0mastype\u001b[0m\u001b[0;34m(\u001b[0m\u001b[0mint\u001b[0m\u001b[0;34m)\u001b[0m\u001b[0;34m:\u001b[0m\u001b[0;34m,\u001b[0m\u001b[0;34m:\u001b[0m\u001b[0;34m]\u001b[0m\u001b[0;34m/\u001b[0m\u001b[0mbeta_\u001b[0m\u001b[0;34m)\u001b[0m\u001b[0;34m,\u001b[0m \u001b[0mfull_matrices\u001b[0m\u001b[0;34m=\u001b[0m\u001b[0;32mTrue\u001b[0m\u001b[0;34m)\u001b[0m\u001b[0;34m\u001b[0m\u001b[0;34m\u001b[0m\u001b[0m\n\u001b[1;32m     32\u001b[0m         \u001b[0;32melse\u001b[0m\u001b[0;34m:\u001b[0m\u001b[0;34m\u001b[0m\u001b[0;34m\u001b[0m\u001b[0m\n\u001b[0;32m---> 33\u001b[0;31m             \u001b[0mU\u001b[0m\u001b[0;34m,\u001b[0m \u001b[0ms\u001b[0m\u001b[0;34m,\u001b[0m \u001b[0mV\u001b[0m \u001b[0;34m=\u001b[0m \u001b[0mnp\u001b[0m\u001b[0;34m.\u001b[0m\u001b[0mlinalg\u001b[0m\u001b[0;34m.\u001b[0m\u001b[0msvd\u001b[0m\u001b[0;34m(\u001b[0m\u001b[0mA_0\u001b[0m\u001b[0;34m[\u001b[0m\u001b[0mc_int\u001b[0m\u001b[0;34m[\u001b[0m\u001b[0mjj\u001b[0m\u001b[0;34m]\u001b[0m\u001b[0;34m.\u001b[0m\u001b[0mastype\u001b[0m\u001b[0;34m(\u001b[0m\u001b[0mint\u001b[0m\u001b[0;34m)\u001b[0m\u001b[0;34m:\u001b[0m\u001b[0mc_int\u001b[0m\u001b[0;34m[\u001b[0m\u001b[0mjj\u001b[0m\u001b[0;34m+\u001b[0m\u001b[0;36m1\u001b[0m\u001b[0;34m]\u001b[0m\u001b[0;34m.\u001b[0m\u001b[0mastype\u001b[0m\u001b[0;34m(\u001b[0m\u001b[0mint\u001b[0m\u001b[0;34m)\u001b[0m\u001b[0;34m,\u001b[0m\u001b[0;34m:\u001b[0m\u001b[0;34m]\u001b[0m\u001b[0;34m-\u001b[0m\u001b[0;34m(\u001b[0m\u001b[0mG3_0\u001b[0m\u001b[0;34m[\u001b[0m\u001b[0mc_int\u001b[0m\u001b[0;34m[\u001b[0m\u001b[0mjj\u001b[0m\u001b[0;34m]\u001b[0m\u001b[0;34m.\u001b[0m\u001b[0mastype\u001b[0m\u001b[0;34m(\u001b[0m\u001b[0mint\u001b[0m\u001b[0;34m)\u001b[0m\u001b[0;34m:\u001b[0m\u001b[0mc_int\u001b[0m\u001b[0;34m[\u001b[0m\u001b[0mjj\u001b[0m\u001b[0;34m+\u001b[0m\u001b[0;36m1\u001b[0m\u001b[0;34m]\u001b[0m\u001b[0;34m.\u001b[0m\u001b[0mastype\u001b[0m\u001b[0;34m(\u001b[0m\u001b[0mint\u001b[0m\u001b[0;34m)\u001b[0m\u001b[0;34m,\u001b[0m\u001b[0;34m:\u001b[0m\u001b[0;34m]\u001b[0m\u001b[0;34m/\u001b[0m\u001b[0mbeta_\u001b[0m\u001b[0;34m)\u001b[0m\u001b[0;34m,\u001b[0m \u001b[0mfull_matrices\u001b[0m\u001b[0;34m=\u001b[0m\u001b[0;32mTrue\u001b[0m\u001b[0;34m)\u001b[0m\u001b[0;34m\u001b[0m\u001b[0;34m\u001b[0m\u001b[0m\n\u001b[0m\u001b[1;32m     34\u001b[0m         \u001b[0mmask_svt\u001b[0m \u001b[0;34m=\u001b[0m \u001b[0mnp\u001b[0m\u001b[0;34m.\u001b[0m\u001b[0mwhere\u001b[0m\u001b[0;34m(\u001b[0m\u001b[0ms\u001b[0m\u001b[0;34m>=\u001b[0m\u001b[0;34m(\u001b[0m\u001b[0mrho_\u001b[0m\u001b[0;34m/\u001b[0m\u001b[0mbeta_\u001b[0m\u001b[0;34m)\u001b[0m\u001b[0;34m)\u001b[0m\u001b[0;34m\u001b[0m\u001b[0;34m\u001b[0m\u001b[0m\n\u001b[1;32m     35\u001b[0m \u001b[0;34m\u001b[0m\u001b[0m\n",
      "\u001b[0;32m<__array_function__ internals>\u001b[0m in \u001b[0;36msvd\u001b[0;34m(*args, **kwargs)\u001b[0m\n",
      "\u001b[0;32m~/minkang/gosin/lib/python3.6/site-packages/numpy/linalg/linalg.py\u001b[0m in \u001b[0;36msvd\u001b[0;34m(a, full_matrices, compute_uv, hermitian)\u001b[0m\n\u001b[1;32m   1624\u001b[0m \u001b[0;34m\u001b[0m\u001b[0m\n\u001b[1;32m   1625\u001b[0m         \u001b[0msignature\u001b[0m \u001b[0;34m=\u001b[0m \u001b[0;34m'D->DdD'\u001b[0m \u001b[0;32mif\u001b[0m \u001b[0misComplexType\u001b[0m\u001b[0;34m(\u001b[0m\u001b[0mt\u001b[0m\u001b[0;34m)\u001b[0m \u001b[0;32melse\u001b[0m \u001b[0;34m'd->ddd'\u001b[0m\u001b[0;34m\u001b[0m\u001b[0;34m\u001b[0m\u001b[0m\n\u001b[0;32m-> 1626\u001b[0;31m         \u001b[0mu\u001b[0m\u001b[0;34m,\u001b[0m \u001b[0ms\u001b[0m\u001b[0;34m,\u001b[0m \u001b[0mvh\u001b[0m \u001b[0;34m=\u001b[0m \u001b[0mgufunc\u001b[0m\u001b[0;34m(\u001b[0m\u001b[0ma\u001b[0m\u001b[0;34m,\u001b[0m \u001b[0msignature\u001b[0m\u001b[0;34m=\u001b[0m\u001b[0msignature\u001b[0m\u001b[0;34m,\u001b[0m \u001b[0mextobj\u001b[0m\u001b[0;34m=\u001b[0m\u001b[0mextobj\u001b[0m\u001b[0;34m)\u001b[0m\u001b[0;34m\u001b[0m\u001b[0;34m\u001b[0m\u001b[0m\n\u001b[0m\u001b[1;32m   1627\u001b[0m         \u001b[0mu\u001b[0m \u001b[0;34m=\u001b[0m \u001b[0mu\u001b[0m\u001b[0;34m.\u001b[0m\u001b[0mastype\u001b[0m\u001b[0;34m(\u001b[0m\u001b[0mresult_t\u001b[0m\u001b[0;34m,\u001b[0m \u001b[0mcopy\u001b[0m\u001b[0;34m=\u001b[0m\u001b[0;32mFalse\u001b[0m\u001b[0;34m)\u001b[0m\u001b[0;34m\u001b[0m\u001b[0;34m\u001b[0m\u001b[0m\n\u001b[1;32m   1628\u001b[0m         \u001b[0ms\u001b[0m \u001b[0;34m=\u001b[0m \u001b[0ms\u001b[0m\u001b[0;34m.\u001b[0m\u001b[0mastype\u001b[0m\u001b[0;34m(\u001b[0m\u001b[0m_realType\u001b[0m\u001b[0;34m(\u001b[0m\u001b[0mresult_t\u001b[0m\u001b[0;34m)\u001b[0m\u001b[0;34m,\u001b[0m \u001b[0mcopy\u001b[0m\u001b[0;34m=\u001b[0m\u001b[0;32mFalse\u001b[0m\u001b[0;34m)\u001b[0m\u001b[0;34m\u001b[0m\u001b[0;34m\u001b[0m\u001b[0m\n",
      "\u001b[0;31mKeyboardInterrupt\u001b[0m: "
     ],
     "output_type": "error"
    }
   ],
   "source": [
    "### PERFORMANCE ###\n",
    "from numpy.linalg import inv\n",
    "Y_ST=np.zeros((10000,Y_star.shape[0],Y_star.shape[1]))\n",
    "for ii in range(100):\n",
    "    Y_ST[ii]=Y_0\n",
    "    A_0_k = np.matmul(inv(mu_2*np.matmul(np.transpose(D_0),D_0)+2*beta_*np.eye(kd_+km_)),mu_2*np.matmul(np.transpose(D_0),Y_0)+beta_*Z_0+beta_*V_0+G2_0+G3_0)\n",
    "#     A_0_k = tau_1/(2*beta_*tau_1+mu_2)*(mu_2/tau_1*A_0-mu_2*np.matmul(np.transpose(D_0),(np.matmul(D_0,A_0)-Y_0))+beta_*(Z_0+V_0)+G2_0+G3_0)\n",
    "\n",
    "    g_ = np.matmul(np.matmul(np.matmul(np.matmul(np.transpose(F_r),F_r),Q_0),np.transpose(F_c)),F_c)-np.matmul(np.matmul(np.transpose(F_r),(Y_0-(G1_0/beta_))),F_c)\n",
    "\n",
    "    Q_0_k = tau_2/(beta_+tau_2)*(Q_0-tau_2*g_)\n",
    "\n",
    "\n",
    "    Y_0_o=(mu_1*Y_0+mu_2*np.matmul(D_0,A_0)+beta_*np.matmul(np.matmul(F_r,Q_0),np.transpose(F_c))+G1_0)/(mu_1+mu_2+beta_)\n",
    "    Y_0_n=(mu_2*np.matmul(D_0,A_0)+beta_*np.matmul(np.matmul(F_r,Q_0),np.transpose(F_c))+G1_0)/(mu_2+beta_)\n",
    "    Y_0_k = ob_mask*Y_0_o + nob_mask*Y_0_n\n",
    "\n",
    "    \n",
    "    s_1=np.abs(A_0 - (G2_0/beta_))-(lambda_/beta_)\n",
    "    s_1[s_1<0]=0\n",
    "    s_2 = np.sign(A_0 - (G2_0/beta_))\n",
    "    Z_c=np.multiply(s_1,s_2)\n",
    "    Z_0_k = (A_0 - (G2_0/beta_))\n",
    "    Z_0_k[c_int.astype(int)] = Z_c[c_int.astype(int)]\n",
    "\n",
    "    \n",
    "#     if ii==0:\n",
    "\n",
    "    for jj in range(kd_):\n",
    "        if jj==kd_-1:\n",
    "            U, s, V = np.linalg.svd(A_0[c_int[jj].astype(int):,:]-(G3_0[c_int[jj].astype(int):,:]/beta_), full_matrices=True)\n",
    "        else:\n",
    "            U, s, V = np.linalg.svd(A_0[c_int[jj].astype(int):c_int[jj+1].astype(int),:]-(G3_0[c_int[jj].astype(int):c_int[jj+1].astype(int),:]/beta_), full_matrices=True)\n",
    "        mask_svt = np.where(s>=(rho_/beta_))\n",
    "\n",
    "        V_store=np.zeros((U.shape[0],kd_))        \n",
    "        V_store[mask_svt,:]=V[mask_svt]\n",
    "#         print(V_store)\n",
    "\n",
    "        if jj==0:\n",
    "            V_0_k = V_store\n",
    "        else:\n",
    "            V_0_k = np.concatenate([V_0_k,V_store],axis=0)\n",
    "\n",
    "####   \n",
    "#     for jj in range(kd_):\n",
    "# #             print(jj)\n",
    "#         if jj==kd_-1:\n",
    "#             qq=A_0[c_int[jj].astype(int):,:]-(G3_0[c_int[jj].astype(int):,:]/beta_)\n",
    "#             U, V =svt(A_0[c_int[jj].astype(int):,:]-(G3_0[c_int[jj].astype(int):,:]/beta_),rho_/beta_)\n",
    "#         else:\n",
    "#             qq=A_0[c_int[jj].astype(int):c_int[jj+1].astype(int),:]-(G3_0[c_int[jj].astype(int):c_int[jj+1].astype(int),:]/beta_)\n",
    "#             U, V = svt(A_0[c_int[jj].astype(int):c_int[jj+1].astype(int),:]-(G3_0[c_int[jj].astype(int):c_int[jj+1].astype(int),:]/beta_),rho_/beta_)\n",
    "# #                 print(V.shape,kd_,qq.shape[0],U.shape[0])\n",
    "#         V_store=np.zeros((qq.shape[0],kd_))        \n",
    "#         V_store[:V.shape[0],:]=V\n",
    "\n",
    "#         if jj==0:\n",
    "#             V_0_k = V_store\n",
    "#         else:\n",
    "#             V_0_k = np.concatenate([V_0_k,V_store],axis=0)\n",
    "\n",
    "\n",
    "    G1_0=G1_0+beta_*(np.matmul(np.matmul(F_r,Q_0_k),np.transpose(F_c))-Y_0_k)\n",
    "    G2_0=G2_0+beta_*(Z_0_k-A_0_k)\n",
    "    G3_0=G3_0+beta_*(V_0_k-A_0_k)\n",
    "    \n",
    "    print(np.sum(np.abs(Y_0_k-Y_ST[ii])),np.linalg.norm(Y_0_k-Y_star,'fro')/np.linalg.norm(Y_star,'fro'))\n",
    "    A_0= A_0_k\n",
    "    Z_0= Z_0_k\n",
    "    V_0= V_0_k\n",
    "    Q_0= Q_0_k\n",
    "    Y_0 = Y_0_k"
   ]
  },
  {
   "cell_type": "code",
   "execution_count": 517,
   "metadata": {},
   "outputs": [
    {
     "data": {
      "text/plain": [
       "array([   0.        ,   62.96610047, -106.29506615,  -63.30250033,\n",
       "       -157.72532635,  325.27523308,  135.90485091,    0.        ,\n",
       "       -148.8423047 ,  267.00313802,  210.75376879,    0.        ,\n",
       "       -482.24654038,    0.        ,  -71.17710017,  -25.46859774,\n",
       "       -400.72544508,  -67.55030552, -551.01778367,   93.55404248,\n",
       "         10.36672744,   17.72244161,  358.50021324,   -0.        ,\n",
       "        330.97980426,   77.30619326,  391.90530991, -361.32633124,\n",
       "       -159.35946499, -122.00987863,  333.16544752,  307.00844302,\n",
       "        -70.37465138,   -0.        , -632.76663833,  602.28382871,\n",
       "        320.87135492, -172.34178037, -406.20002568,  212.99434993,\n",
       "         40.82562413, -443.01771424,  245.71457141, -586.78845428,\n",
       "        -91.24302457,  349.6161375 ,    0.        ,  195.25872802,\n",
       "          0.        , -243.12769319,  220.37982649,  270.72885657,\n",
       "       -297.77963786,  474.7900996 ,  -12.4237739 , -167.64850685,\n",
       "        229.7612676 ,  -60.17746775,  -58.32735692,  129.84718096,\n",
       "       -307.45296576,   46.63098246, -126.98532096,  115.30150096,\n",
       "       -567.7855714 , -474.89747733,  172.42027817,  -34.82019063,\n",
       "          0.        , -308.88045394,  245.83702206, -258.8863226 ,\n",
       "          0.        ,  299.10485673,  187.35301951, -144.61042047,\n",
       "         -0.        ,   -0.        ,   -0.        ,    0.        ,\n",
       "        -96.56929661,  181.16420071, -251.80852805,  438.11247022,\n",
       "        136.08503766,  156.84792539,  241.46767437,  109.48834639,\n",
       "        176.02028721,  -41.10743441, -205.32728527,    0.        ,\n",
       "        273.55076531,  592.15878848, -125.96605551,  164.1036159 ,\n",
       "       -477.91320594, -200.35650259, -281.2674194 ,  -54.78253867])"
      ]
     },
     "execution_count": 517,
     "metadata": {},
     "output_type": "execute_result"
    }
   ],
   "source": [
    "Y_bar[:,0]\n"
   ]
  },
  {
   "cell_type": "code",
   "execution_count": 518,
   "metadata": {},
   "outputs": [
    {
     "data": {
      "text/plain": [
       "array([ 2.32934411e-01,  2.94669123e+01, -5.00539752e+01, -2.97341378e+01,\n",
       "       -7.37099672e+01,  1.52661620e+02,  6.36487611e+01,  1.22425279e+00,\n",
       "       -6.99094414e+01,  1.25146931e+02,  9.89416729e+01,  7.55163052e-01,\n",
       "       -2.26172901e+02,  6.40079452e-01, -3.33028925e+01, -1.20885431e+01,\n",
       "       -1.87971499e+02, -3.17283893e+01, -2.58328072e+02,  4.37989671e+01,\n",
       "        4.97041283e+00,  8.23344411e+00,  1.68072281e+02, -1.56227230e+00,\n",
       "        1.55177587e+02,  3.61267552e+01,  1.83641670e+02, -1.69399325e+02,\n",
       "       -7.48759063e+01, -5.71171726e+01,  1.56118635e+02,  1.43860784e+02,\n",
       "       -3.30100164e+01, -1.54670183e-01, -2.96606418e+02,  2.82238425e+02,\n",
       "        1.50538925e+02, -8.09489348e+01, -1.90437552e+02,  9.97201550e+01,\n",
       "        1.92589041e+01, -2.07731285e+02,  1.15234910e+02, -2.75150008e+02,\n",
       "       -4.27945915e+01,  1.63988263e+02, -1.00667413e-01,  9.16548803e+01,\n",
       "        2.84289652e-01, -1.13874751e+02,  1.03256006e+02,  1.26949305e+02,\n",
       "       -1.39643468e+02,  2.22619838e+02, -5.75405734e+00, -7.85522848e+01,\n",
       "        1.07667696e+02, -2.81700625e+01, -2.73995624e+01,  6.07885536e+01,\n",
       "       -1.44157321e+02,  2.17053954e+01, -5.96315151e+01,  5.41327655e+01,\n",
       "       -2.66277470e+02, -2.22653414e+02,  8.07614599e+01, -1.62529326e+01,\n",
       "        1.11916311e+00, -1.44707185e+02,  1.15458604e+02, -1.21408162e+02,\n",
       "        3.30874403e-01,  1.40189630e+02,  8.78664247e+01, -6.78519111e+01,\n",
       "       -3.96924708e-01, -5.35700906e-01, -8.95593025e-01,  6.90489696e-01,\n",
       "       -4.53728818e+01,  8.49560113e+01, -1.18150847e+02,  2.05344135e+02,\n",
       "        6.36952241e+01,  7.34737935e+01,  1.13366516e+02,  5.13160227e+01,\n",
       "        8.26481065e+01, -1.93693991e+01, -9.63487879e+01,  4.49802198e-01,\n",
       "        1.28120205e+02,  2.77727265e+02, -5.90699369e+01,  7.70661549e+01,\n",
       "       -2.24095520e+02, -9.39737223e+01, -1.31717938e+02, -2.57783758e+01])"
      ]
     },
     "execution_count": 518,
     "metadata": {},
     "output_type": "execute_result"
    }
   ],
   "source": [
    "Y_0[:,0]"
   ]
  },
  {
   "cell_type": "code",
   "execution_count": 309,
   "metadata": {},
   "outputs": [
    {
     "data": {
      "text/plain": [
       "array([ 715.41706205,  220.825109  , -305.36427906,  -84.72335939,\n",
       "       -539.06432193,  469.57750258,   26.63688324,  506.94681712,\n",
       "         73.79610753,   27.80137282,  826.18972499,   90.6266275 ,\n",
       "        554.1027677 ,  617.73797919,  470.51455408, -928.19208613,\n",
       "       -370.33201987,   87.53165429,  700.1898242 , -259.85347032,\n",
       "       -196.47799566,  -72.47987092,  622.20768455,  299.32207519,\n",
       "        221.22186546,  829.0049423 ,   40.22090451,  503.04785724,\n",
       "         35.09692145,  235.06845776,    8.55687172, -357.5956285 ,\n",
       "        227.1105543 , -366.80549229, -268.83957084,  330.74813673,\n",
       "       -232.6080423 ,  204.5736629 ,  175.32656164,  173.48890845,\n",
       "         54.64763   ,  423.12928747,  700.41745236, -543.43043619,\n",
       "       -405.24481896,  228.0173257 ,  755.60778237, -203.03292396,\n",
       "        258.17480096, -359.28041524,  -35.80949547, -715.28717926,\n",
       "        475.76057579,  255.98902381,  186.73668901, -159.61740008,\n",
       "       -200.86383408,  251.10417676, -324.4166057 ,  127.08012542,\n",
       "       -598.59200614,   -9.8710268 , -790.32784654,    3.86328894,\n",
       "       -200.31833242, -402.03779854,  771.58016356, -200.08715901,\n",
       "        245.66410315, -438.21588488, -147.26418778, -415.1189847 ,\n",
       "       -103.02668567, -117.49691901, -331.46872053,  100.28703038,\n",
       "        685.91893325, -464.36212719, -170.62075041,   -5.83015826,\n",
       "       -110.51181638, -384.85003364,  323.30953861, -435.4315258 ,\n",
       "       -539.98253923, -368.78384228,  430.92929299,   74.2290789 ,\n",
       "        359.54661434, 1127.83951654,   70.48696165,  -56.80817343,\n",
       "         68.76136834, -130.37483305, -128.43686609,  405.24833949,\n",
       "        124.01775124,  124.46471198, -236.98255756, -172.21657581])"
      ]
     },
     "execution_count": 309,
     "metadata": {},
     "output_type": "execute_result"
    }
   ],
   "source": [
    "Y_star[:,0]"
   ]
  },
  {
   "cell_type": "code",
   "execution_count": 88,
   "metadata": {},
   "outputs": [
    {
     "data": {
      "text/plain": [
       "0.7519284285079888"
      ]
     },
     "execution_count": 88,
     "metadata": {},
     "output_type": "execute_result"
    }
   ],
   "source": [
    "np.linalg.norm(Y_0-Y_star,'fro')/np.linalg.norm(Y_star,'fro')"
   ]
  },
  {
   "cell_type": "code",
   "execution_count": null,
   "metadata": {},
   "outputs": [],
   "source": []
  }
 ],
 "metadata": {
  "kernelspec": {
   "display_name": "Python 3",
   "language": "python",
   "name": "python3"
  },
  "language_info": {
   "codemirror_mode": {
    "name": "ipython",
    "version": 3
   },
   "file_extension": ".py",
   "mimetype": "text/x-python",
   "name": "python",
   "nbconvert_exporter": "python",
   "pygments_lexer": "ipython3",
   "version": "3.6.9"
  }
 },
 "nbformat": 4,
 "nbformat_minor": 4
}
